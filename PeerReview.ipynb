{
 "cells": [
  {
   "cell_type": "markdown",
   "id": "cd9ade0f",
   "metadata": {},
   "source": [
    "# \"My Jupyter Notebook on IBM Watson Studio\""
   ]
  },
  {
   "cell_type": "code",
   "execution_count": null,
   "id": "190f8275",
   "metadata": {},
   "outputs": [],
   "source": [
    "Andre Rand\n",
    "Data Scientist"
   ]
  },
  {
   "cell_type": "markdown",
   "id": "a8fa7ba0",
   "metadata": {},
   "source": [
    "I'm interested in data science because the data in health can save lives."
   ]
  },
  {
   "cell_type": "markdown",
   "id": "9ead2f26",
   "metadata": {},
   "source": [
    "### \"The code in cell 5 is suppose to explain why I'm using regular Jupyter Notebook"
   ]
  },
  {
   "cell_type": "code",
   "execution_count": 1,
   "id": "0698878c",
   "metadata": {},
   "outputs": [
    {
     "name": "stdout",
     "output_type": "stream",
     "text": [
      "I couldn't\n",
      "get IBM Watson Studio\n",
      "or Skills Network to work..\n",
      "so I'm using regular Jupyter Notebook\n"
     ]
    }
   ],
   "source": [
    "a = \"I couldn't\"\n",
    "b = \"get IBM Watson Studio\"\n",
    "c = \"or Skills Network to work..\"\n",
    "d = \"so I'm using regular Jupyter Notebook\"\n",
    "\n",
    "list = [a, b, c, d]\n",
    "\n",
    "for x in list:\n",
    "    print(x)"
   ]
  },
  {
   "cell_type": "markdown",
   "id": "e1227b13",
   "metadata": {},
   "source": [
    "1) first is a\n",
    "2) second is b\n",
    "3) third is c\n",
    "4) fourth is d\n",
    "\n",
    "- here\n",
    "- are\n",
    "- more\n",
    "- lists\n",
    "\n",
    "insertgithubhyperlink"
   ]
  }
 ],
 "metadata": {
  "kernelspec": {
   "display_name": "Python 3 (ipykernel)",
   "language": "python",
   "name": "python3"
  },
  "language_info": {
   "codemirror_mode": {
    "name": "ipython",
    "version": 3
   },
   "file_extension": ".py",
   "mimetype": "text/x-python",
   "name": "python",
   "nbconvert_exporter": "python",
   "pygments_lexer": "ipython3",
   "version": "3.9.7"
  }
 },
 "nbformat": 4,
 "nbformat_minor": 5
}
